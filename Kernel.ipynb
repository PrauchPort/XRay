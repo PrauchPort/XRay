{
 "cells": [
  {
   "cell_type": "code",
   "execution_count": 24,
   "metadata": {},
   "outputs": [],
   "source": [
    "import pandas as pd\n",
    "import numpy as np\n",
    "import matplotlib.pyplot as plt\n",
    "import os\n",
    "import random\n",
    "import shutil\n",
    "from keras import applications\n",
    "from keras.preprocessing.image import ImageDataGenerator, array_to_img, img_to_array, load_img\n",
    "import cv2\n",
    "from keras.layers import Input, Conv2D, MaxPooling2D, Dropout, BatchNormalization, Activation\n",
    "from keras.regularizers import l2\n",
    "\n",
    "IMG_WIDTH = 300\n",
    "IMG_HEIGHT = 300\n",
    "\n",
    "BATCH_SIZE = 32\n",
    "\n",
    "DATA_PATH = \".\\\\dataset\\\\MontgomerySet\"\n",
    "FRAME_PATH = os.path.join(DATA_PATH, \"CXR_PNG\")\n",
    "LEFT_MASK_PATH = os.path.join(DATA_PATH, \"ManualMask\\\\leftMask\")\n",
    "\n",
    "from IPython.core.interactiveshell import InteractiveShell\n",
    "InteractiveShell.ast_node_interactivity = \"all\""
   ]
  },
  {
   "cell_type": "code",
   "execution_count": 4,
   "metadata": {},
   "outputs": [],
   "source": [
    "def initDataForTraining():\n",
    "\n",
    "    folders = ['train_frames', 'train_masks', 'val_frames', 'val_masks', 'test_frames', 'test_masks']\n",
    "    \n",
    "    for folder in folders:\n",
    "        if(not os.path.exists(os.path.join(DATA_PATH, folder))):\n",
    "            os.makedirs(os.path.join(DATA_PATH, folder))\n",
    "    \n",
    "    all_frames = os.listdir(FRAME_PATH)\n",
    "    random.shuffle(all_frames)\n",
    "    split = int(0.7*len(all_frames))\n",
    "\n",
    "    train = all_frames[:split]\n",
    "    test = all_frames[split:]\n",
    "    \n",
    "    for fileName in train:\n",
    "        shutil.copy(os.path.join(FRAME_PATH, fileName), os.path.join(DATA_PATH, 'train_frames'))\n",
    "        shutil.copy(os.path.join(LEFT_MASK_PATH, fileName), os.path.join(DATA_PATH, 'train_masks'))\n",
    "    \n",
    "    for fileName in test:\n",
    "        shutil.copy(os.path.join(FRAME_PATH, fileName), os.path.join(DATA_PATH, 'test_frames'))\n",
    "        shutil.copy(os.path.join(LEFT_MASK_PATH, fileName), os.path.join(DATA_PATH, 'test_masks'))\n",
    "    \n",
    "    \n",
    "    \n",
    "    "
   ]
  },
  {
   "cell_type": "code",
   "execution_count": 50,
   "metadata": {},
   "outputs": [],
   "source": [
    "initDataForTraining()\n"
   ]
  },
  {
   "cell_type": "code",
   "execution_count": 8,
   "metadata": {},
   "outputs": [],
   "source": [
    "trainFramePath = os.path.join(DATA_PATH, 'train_frames')\n",
    "trainMaskPath = os.path.join(DATA_PATH, 'train_masks')\n",
    "testFramePath = os.path.join(DATA_PATH, 'test_frames')\n",
    "testMaskPath = os.path.join(DATA_PATH, 'test_masks')"
   ]
  },
  {
   "cell_type": "code",
   "execution_count": 12,
   "metadata": {},
   "outputs": [
    {
     "data": {
      "text/plain": [
       "'.\\\\dataset\\\\MontgomerySet\\\\train_frames'"
      ]
     },
     "execution_count": 12,
     "metadata": {},
     "output_type": "execute_result"
    }
   ],
   "source": [
    "trainFramePath"
   ]
  },
  {
   "cell_type": "code",
   "execution_count": 4,
   "metadata": {},
   "outputs": [],
   "source": [
    "def loadTrainData():\n",
    "    X = []\n",
    "    Y = []\n",
    "    files = os.listdir(trainFramePath)\n",
    "    for file in files:\n",
    "        imgX = img_to_array(load_img(os.path.join(trainFramePath, file)))\n",
    "        imgY = img_to_array(load_img(os.path.join(trainMaskPath, file)))\n",
    "\n",
    "        X.append(imgX/255.)\n",
    "        Y.append(imgY/255.)\n",
    "\n",
    "    return X, Y"
   ]
  },
  {
   "cell_type": "code",
   "execution_count": 21,
   "metadata": {},
   "outputs": [],
   "source": [
    "def loadTrainData():\n",
    "    imageNames = [f for f in os.listdir(trainFramePath)]\n",
    "    X = []\n",
    "    Y = []\n",
    "    for index, imgName in enumerate(imageNames):\n",
    "        framePath = os.path.join(trainFramePath, imgName)\n",
    "        maskPath = os.path.join(trainMaskPath, imgName)\n",
    "        imageX = cv2.imread(framePath, cv2.IMREAD_COLOR)\n",
    "        imageX = cv2.resize(imageX, (IMG_WIDTH, IMG_HEIGHT))\n",
    "        imageX = cv2.cvtColor(imageX, cv2.COLOR_BGR2RGB)\n",
    "        imageY = cv2.imread(maskPath, cv2.IMREAD_COLOR)\n",
    "        imageY = cv2.resize(imageY, (IMG_WIDTH, IMG_HEIGHT))\n",
    "        imageY = cv2.cvtColor(imageY, cv2.COLOR_BGR2RGB)\n",
    "        X.append(imageX)\n",
    "        Y.append(imageY)\n",
    "    return X, Y"
   ]
  },
  {
   "cell_type": "code",
   "execution_count": null,
   "metadata": {},
   "outputs": [],
   "source": [
    "os.listdir(trainFramePath)"
   ]
  },
  {
   "cell_type": "code",
   "execution_count": 6,
   "metadata": {},
   "outputs": [],
   "source": [
    "train_datagen = ImageDataGenerator(\n",
    "        rescale=1./255,\n",
    "        shear_range=0.2,\n",
    "        zoom_range=0.2,\n",
    "        horizontal_flip=True)\n",
    "\n",
    "test_datagen = ImageDataGenerator(rescale=1./255)"
   ]
  },
  {
   "cell_type": "code",
   "execution_count": 13,
   "metadata": {},
   "outputs": [
    {
     "name": "stdout",
     "output_type": "stream",
     "text": [
      "Found 138 images belonging to 1 classes.\n",
      "Found 0 images belonging to 0 classes.\n",
      "Found 0 images belonging to 0 classes.\n",
      "Found 0 images belonging to 0 classes.\n"
     ]
    }
   ],
   "source": [
    "train_image_generator = train_datagen.flow_from_directory(\n",
    "trainFramePath,\n",
    "target_size=(150, 150),\n",
    "class_mode=None,\n",
    "batch_size = BATCH_SIZE)\n",
    "\n",
    "train_mask_generator = train_datagen.flow_from_directory(\n",
    "trainMaskPath,\n",
    "target_size=(150, 150),\n",
    "class_mode=None,\n",
    "batch_size = BATCH_SIZE)\n",
    "\n",
    "test_image_generator = test_datagen.flow_from_directory(\n",
    "testFramePath,\n",
    "target_size=(150, 150),\n",
    "batch_size = BATCH_SIZE)\n",
    "\n",
    "\n",
    "test_mask_generator = test_datagen.flow_from_directory(\n",
    "testMaskPath,\n",
    "target_size=(150, 150),\n",
    "batch_size = BATCH_SIZE)"
   ]
  },
  {
   "cell_type": "code",
   "execution_count": 10,
   "metadata": {},
   "outputs": [
    {
     "data": {
      "text/plain": [
       "[]"
      ]
     },
     "execution_count": 10,
     "metadata": {},
     "output_type": "execute_result"
    }
   ],
   "source": [
    "train_image_generator.filepaths"
   ]
  },
  {
   "cell_type": "code",
   "execution_count": 40,
   "metadata": {},
   "outputs": [],
   "source": [
    "train_generator = zip(train_image_generator, train_mask_generator)"
   ]
  },
  {
   "cell_type": "code",
   "execution_count": 40,
   "metadata": {},
   "outputs": [],
   "source": [
    "from tqdm import tqdm_notebook"
   ]
  },
  {
   "cell_type": "code",
   "execution_count": 46,
   "metadata": {},
   "outputs": [],
   "source": [
    "im_height = 128\n",
    "im_width = 128\n",
    "\n",
    "from skimage.transform import resize"
   ]
  },
  {
   "cell_type": "code",
   "execution_count": 81,
   "metadata": {},
   "outputs": [
    {
     "name": "stdout",
     "output_type": "stream",
     "text": [
      "Getting and resizing images ... \n"
     ]
    },
    {
     "data": {
      "application/vnd.jupyter.widget-view+json": {
       "model_id": "ce2b90a4e35e46369973b1b7685f4e65",
       "version_major": 2,
       "version_minor": 0
      },
      "text/plain": [
       "HBox(children=(IntProgress(value=0, max=96), HTML(value='')))"
      ]
     },
     "metadata": {},
     "output_type": "display_data"
    },
    {
     "name": "stderr",
     "output_type": "stream",
     "text": [
      "c:\\users\\wojtek\\appdata\\local\\conda\\conda\\envs\\deep learning\\lib\\site-packages\\keras_preprocessing\\image\\utils.py:98: UserWarning: grayscale is deprecated. Please use color_mode = \"grayscale\"\n",
      "  warnings.warn('grayscale is deprecated. Please use '\n"
     ]
    },
    {
     "name": "stdout",
     "output_type": "stream",
     "text": [
      "Done!\n"
     ]
    }
   ],
   "source": [
    "def get_data(framePath, maskPath, train=True):\n",
    "    ids = next(os.walk(framePath))[2]\n",
    "    X = np.zeros((len(ids), im_height, im_width, 1), dtype=np.float32)\n",
    "    if train:\n",
    "        y = np.zeros((len(ids), im_height, im_width, 1), dtype=np.float32)\n",
    "    print('Getting and resizing images ... ')\n",
    "    for n, id_ in tqdm_notebook(enumerate(ids), total=len(ids)):\n",
    "        # Load images\n",
    "        img = load_img(os.path.join(framePath, id_), grayscale=True)\n",
    "        x_img = img_to_array(img)\n",
    "        x_img = resize(x_img, (128, 128, 1), mode='constant', preserve_range=True)\n",
    "\n",
    "        # Load masks\n",
    "        if train:\n",
    "            mask = img_to_array(load_img(os.path.join(maskPath, id_), grayscale=True))\n",
    "            mask = resize(mask, (128, 128, 1), mode='constant', preserve_range=True)\n",
    "\n",
    "        # Save images\n",
    "        X[n, ..., 0] = x_img.squeeze() / 255\n",
    "        if train:\n",
    "            y[n] = mask / 255\n",
    "    print('Done!')\n",
    "    if train:\n",
    "        return X, y\n",
    "    else:\n",
    "        return X\n",
    "    \n",
    "X, y = get_data(trainFramePath, trainMaskPath, train=True)"
   ]
  },
  {
   "cell_type": "code",
   "execution_count": 83,
   "metadata": {},
   "outputs": [
    {
     "name": "stdout",
     "output_type": "stream",
     "text": [
      "Getting and resizing images ... \n"
     ]
    },
    {
     "data": {
      "application/vnd.jupyter.widget-view+json": {
       "model_id": "d615b1dccd3e41e581b1fe336fad9e65",
       "version_major": 2,
       "version_minor": 0
      },
      "text/plain": [
       "HBox(children=(IntProgress(value=0, max=42), HTML(value='')))"
      ]
     },
     "metadata": {},
     "output_type": "display_data"
    },
    {
     "name": "stdout",
     "output_type": "stream",
     "text": [
      "Done!\n"
     ]
    }
   ],
   "source": [
    "Xt, yt = get_data(testFramePath, testMaskPath, train=True)"
   ]
  },
  {
   "cell_type": "code",
   "execution_count": 59,
   "metadata": {},
   "outputs": [
    {
     "data": {
      "text/plain": [
       "(128, 128, 1)"
      ]
     },
     "execution_count": 59,
     "metadata": {},
     "output_type": "execute_result"
    }
   ],
   "source": [
    "X[1].shape"
   ]
  },
  {
   "cell_type": "code",
   "execution_count": 58,
   "metadata": {},
   "outputs": [
    {
     "ename": "TypeError",
     "evalue": "Required argument 'mat' (pos 2) not found",
     "output_type": "error",
     "traceback": [
      "\u001b[1;31m---------------------------------------------------------------------------\u001b[0m",
      "\u001b[1;31mTypeError\u001b[0m                                 Traceback (most recent call last)",
      "\u001b[1;32m<ipython-input-58-96ef2b75b062>\u001b[0m in \u001b[0;36m<module>\u001b[1;34m\u001b[0m\n\u001b[1;32m----> 1\u001b[1;33m \u001b[0mcv2\u001b[0m\u001b[1;33m.\u001b[0m\u001b[0mimshow\u001b[0m\u001b[1;33m(\u001b[0m\u001b[0mX\u001b[0m\u001b[1;33m[\u001b[0m\u001b[1;36m1\u001b[0m\u001b[1;33m]\u001b[0m\u001b[1;33m)\u001b[0m\u001b[1;33m\u001b[0m\u001b[1;33m\u001b[0m\u001b[0m\n\u001b[0m",
      "\u001b[1;31mTypeError\u001b[0m: Required argument 'mat' (pos 2) not found"
     ]
    }
   ],
   "source": [
    "cv2.imshow(X[1])"
   ]
  },
  {
   "cell_type": "code",
   "execution_count": null,
   "metadata": {},
   "outputs": [],
   "source": [
    "plt.imshow()"
   ]
  },
  {
   "cell_type": "code",
   "execution_count": 17,
   "metadata": {},
   "outputs": [],
   "source": [
    "def conv2d_block(input_tensor, n_filters, kernel_size=3, batchnorm=True):\n",
    "    # first layer\n",
    "    x = Conv2D(filters=n_filters, kernel_size=(kernel_size, kernel_size), kernel_initializer=\"he_normal\",\n",
    "               padding=\"same\")(input_tensor)\n",
    "    if batchnorm:\n",
    "        x = BatchNormalization()(x)\n",
    "    x = Activation(\"relu\")(x)\n",
    "    # second layer\n",
    "    x = Conv2D(filters=n_filters, kernel_size=(kernel_size, kernel_size), kernel_initializer=\"he_normal\",\n",
    "               padding=\"same\")(x)\n",
    "    if batchnorm:\n",
    "        x = BatchNormalization()(x)\n",
    "    x = Activation(\"relu\")(x)\n",
    "    return x"
   ]
  },
  {
   "cell_type": "code",
   "execution_count": 22,
   "metadata": {},
   "outputs": [],
   "source": [
    "def get_unet(input_img, n_filters=16, dropout=0.5, batchnorm=True):\n",
    "    # contracting path\n",
    "    c1 = conv2d_block(input_img, n_filters=n_filters*1, kernel_size=3, batchnorm=batchnorm)\n",
    "    p1 = MaxPooling2D((2, 2)) (c1)\n",
    "    p1 = Dropout(dropout*0.5)(p1)\n",
    "\n",
    "    c2 = conv2d_block(p1, n_filters=n_filters*2, kernel_size=3, batchnorm=batchnorm)\n",
    "    p2 = MaxPooling2D((2, 2)) (c2)\n",
    "    p2 = Dropout(dropout)(p2)\n",
    "\n",
    "    c3 = conv2d_block(p2, n_filters=n_filters*4, kernel_size=3, batchnorm=batchnorm)\n",
    "    p3 = MaxPooling2D((2, 2)) (c3)\n",
    "    p3 = Dropout(dropout)(p3)\n",
    "\n",
    "    c4 = conv2d_block(p3, n_filters=n_filters*8, kernel_size=3, batchnorm=batchnorm)\n",
    "    p4 = MaxPooling2D(pool_size=(2, 2)) (c4)\n",
    "    p4 = Dropout(dropout)(p4)\n",
    "    \n",
    "    c5 = conv2d_block(p4, n_filters=n_filters*16, kernel_size=3, batchnorm=batchnorm)\n",
    "    \n",
    "    # expansive path\n",
    "    u6 = Conv2DTranspose(n_filters*8, (3, 3), strides=(2, 2), padding='same') (c5)\n",
    "    u6 = concatenate([u6, c4])\n",
    "    u6 = Dropout(dropout)(u6)\n",
    "    c6 = conv2d_block(u6, n_filters=n_filters*8, kernel_size=3, batchnorm=batchnorm)\n",
    "\n",
    "    u7 = Conv2DTranspose(n_filters*4, (3, 3), strides=(2, 2), padding='same') (c6)\n",
    "    u7 = concatenate([u7, c3])\n",
    "    u7 = Dropout(dropout)(u7)\n",
    "    c7 = conv2d_block(u7, n_filters=n_filters*4, kernel_size=3, batchnorm=batchnorm)\n",
    "\n",
    "    u8 = Conv2DTranspose(n_filters*2, (3, 3), strides=(2, 2), padding='same') (c7)\n",
    "    u8 = concatenate([u8, c2])\n",
    "    u8 = Dropout(dropout)(u8)\n",
    "    c8 = conv2d_block(u8, n_filters=n_filters*2, kernel_size=3, batchnorm=batchnorm)\n",
    "\n",
    "    u9 = Conv2DTranspose(n_filters*1, (3, 3), strides=(2, 2), padding='same') (c8)\n",
    "    u9 = concatenate([u9, c1], axis=3)\n",
    "    u9 = Dropout(dropout)(u9)\n",
    "    c9 = conv2d_block(u9, n_filters=n_filters*1, kernel_size=3, batchnorm=batchnorm)\n",
    "    \n",
    "    outputs = Conv2D(1, (1, 1), activation='sigmoid') (c9)\n",
    "    model = Model(inputs=[input_img], outputs=[outputs])\n",
    "    return model"
   ]
  },
  {
   "cell_type": "code",
   "execution_count": 35,
   "metadata": {},
   "outputs": [
    {
     "name": "stdout",
     "output_type": "stream",
     "text": [
      "__________________________________________________________________________________________________\n",
      "Layer (type)                    Output Shape         Param #     Connected to                     \n",
      "==================================================================================================\n",
      "img (InputLayer)                (None, 128, 128, 1)  0                                            \n",
      "__________________________________________________________________________________________________\n",
      "conv2d_71 (Conv2D)              (None, 128, 128, 16) 160         img[0][0]                        \n",
      "__________________________________________________________________________________________________\n",
      "batch_normalization_68 (BatchNo (None, 128, 128, 16) 64          conv2d_71[0][0]                  \n",
      "__________________________________________________________________________________________________\n",
      "activation_67 (Activation)      (None, 128, 128, 16) 0           batch_normalization_68[0][0]     \n",
      "__________________________________________________________________________________________________\n",
      "conv2d_72 (Conv2D)              (None, 128, 128, 16) 2320        activation_67[0][0]              \n",
      "__________________________________________________________________________________________________\n",
      "batch_normalization_69 (BatchNo (None, 128, 128, 16) 64          conv2d_72[0][0]                  \n",
      "__________________________________________________________________________________________________\n",
      "activation_68 (Activation)      (None, 128, 128, 16) 0           batch_normalization_69[0][0]     \n",
      "__________________________________________________________________________________________________\n",
      "max_pooling2d_21 (MaxPooling2D) (None, 64, 64, 16)   0           activation_68[0][0]              \n",
      "__________________________________________________________________________________________________\n",
      "dropout_29 (Dropout)            (None, 64, 64, 16)   0           max_pooling2d_21[0][0]           \n",
      "__________________________________________________________________________________________________\n",
      "conv2d_73 (Conv2D)              (None, 64, 64, 32)   4640        dropout_29[0][0]                 \n",
      "__________________________________________________________________________________________________\n",
      "batch_normalization_70 (BatchNo (None, 64, 64, 32)   128         conv2d_73[0][0]                  \n",
      "__________________________________________________________________________________________________\n",
      "activation_69 (Activation)      (None, 64, 64, 32)   0           batch_normalization_70[0][0]     \n",
      "__________________________________________________________________________________________________\n",
      "conv2d_74 (Conv2D)              (None, 64, 64, 32)   9248        activation_69[0][0]              \n",
      "__________________________________________________________________________________________________\n",
      "batch_normalization_71 (BatchNo (None, 64, 64, 32)   128         conv2d_74[0][0]                  \n",
      "__________________________________________________________________________________________________\n",
      "activation_70 (Activation)      (None, 64, 64, 32)   0           batch_normalization_71[0][0]     \n",
      "__________________________________________________________________________________________________\n",
      "max_pooling2d_22 (MaxPooling2D) (None, 32, 32, 32)   0           activation_70[0][0]              \n",
      "__________________________________________________________________________________________________\n",
      "dropout_30 (Dropout)            (None, 32, 32, 32)   0           max_pooling2d_22[0][0]           \n",
      "__________________________________________________________________________________________________\n",
      "conv2d_75 (Conv2D)              (None, 32, 32, 64)   18496       dropout_30[0][0]                 \n",
      "__________________________________________________________________________________________________\n",
      "batch_normalization_72 (BatchNo (None, 32, 32, 64)   256         conv2d_75[0][0]                  \n",
      "__________________________________________________________________________________________________\n",
      "activation_71 (Activation)      (None, 32, 32, 64)   0           batch_normalization_72[0][0]     \n",
      "__________________________________________________________________________________________________\n",
      "conv2d_76 (Conv2D)              (None, 32, 32, 64)   36928       activation_71[0][0]              \n",
      "__________________________________________________________________________________________________\n",
      "batch_normalization_73 (BatchNo (None, 32, 32, 64)   256         conv2d_76[0][0]                  \n",
      "__________________________________________________________________________________________________\n",
      "activation_72 (Activation)      (None, 32, 32, 64)   0           batch_normalization_73[0][0]     \n",
      "__________________________________________________________________________________________________\n",
      "max_pooling2d_23 (MaxPooling2D) (None, 16, 16, 64)   0           activation_72[0][0]              \n",
      "__________________________________________________________________________________________________\n",
      "dropout_31 (Dropout)            (None, 16, 16, 64)   0           max_pooling2d_23[0][0]           \n",
      "__________________________________________________________________________________________________\n",
      "conv2d_77 (Conv2D)              (None, 16, 16, 128)  73856       dropout_31[0][0]                 \n",
      "__________________________________________________________________________________________________\n",
      "batch_normalization_74 (BatchNo (None, 16, 16, 128)  512         conv2d_77[0][0]                  \n",
      "__________________________________________________________________________________________________\n",
      "activation_73 (Activation)      (None, 16, 16, 128)  0           batch_normalization_74[0][0]     \n",
      "__________________________________________________________________________________________________\n",
      "conv2d_78 (Conv2D)              (None, 16, 16, 128)  147584      activation_73[0][0]              \n",
      "__________________________________________________________________________________________________\n",
      "batch_normalization_75 (BatchNo (None, 16, 16, 128)  512         conv2d_78[0][0]                  \n",
      "__________________________________________________________________________________________________\n",
      "activation_74 (Activation)      (None, 16, 16, 128)  0           batch_normalization_75[0][0]     \n",
      "__________________________________________________________________________________________________\n",
      "max_pooling2d_24 (MaxPooling2D) (None, 8, 8, 128)    0           activation_74[0][0]              \n",
      "__________________________________________________________________________________________________\n",
      "dropout_32 (Dropout)            (None, 8, 8, 128)    0           max_pooling2d_24[0][0]           \n",
      "__________________________________________________________________________________________________\n",
      "conv2d_79 (Conv2D)              (None, 8, 8, 256)    295168      dropout_32[0][0]                 \n",
      "__________________________________________________________________________________________________\n",
      "batch_normalization_76 (BatchNo (None, 8, 8, 256)    1024        conv2d_79[0][0]                  \n",
      "__________________________________________________________________________________________________\n",
      "activation_75 (Activation)      (None, 8, 8, 256)    0           batch_normalization_76[0][0]     \n",
      "__________________________________________________________________________________________________\n",
      "conv2d_80 (Conv2D)              (None, 8, 8, 256)    590080      activation_75[0][0]              \n",
      "__________________________________________________________________________________________________\n",
      "batch_normalization_77 (BatchNo (None, 8, 8, 256)    1024        conv2d_80[0][0]                  \n",
      "__________________________________________________________________________________________________\n",
      "activation_76 (Activation)      (None, 8, 8, 256)    0           batch_normalization_77[0][0]     \n",
      "__________________________________________________________________________________________________\n",
      "conv2d_transpose_11 (Conv2DTran (None, 16, 16, 128)  295040      activation_76[0][0]              \n",
      "__________________________________________________________________________________________________\n",
      "concatenate_10 (Concatenate)    (None, 16, 16, 256)  0           conv2d_transpose_11[0][0]        \n",
      "                                                                 activation_74[0][0]              \n",
      "__________________________________________________________________________________________________\n",
      "dropout_33 (Dropout)            (None, 16, 16, 256)  0           concatenate_10[0][0]             \n",
      "__________________________________________________________________________________________________\n",
      "conv2d_81 (Conv2D)              (None, 16, 16, 128)  295040      dropout_33[0][0]                 \n",
      "__________________________________________________________________________________________________\n",
      "batch_normalization_78 (BatchNo (None, 16, 16, 128)  512         conv2d_81[0][0]                  \n",
      "__________________________________________________________________________________________________\n",
      "activation_77 (Activation)      (None, 16, 16, 128)  0           batch_normalization_78[0][0]     \n",
      "__________________________________________________________________________________________________\n",
      "conv2d_82 (Conv2D)              (None, 16, 16, 128)  147584      activation_77[0][0]              \n",
      "__________________________________________________________________________________________________\n",
      "batch_normalization_79 (BatchNo (None, 16, 16, 128)  512         conv2d_82[0][0]                  \n",
      "__________________________________________________________________________________________________\n",
      "activation_78 (Activation)      (None, 16, 16, 128)  0           batch_normalization_79[0][0]     \n",
      "__________________________________________________________________________________________________\n",
      "conv2d_transpose_12 (Conv2DTran (None, 32, 32, 64)   73792       activation_78[0][0]              \n",
      "__________________________________________________________________________________________________\n",
      "concatenate_11 (Concatenate)    (None, 32, 32, 128)  0           conv2d_transpose_12[0][0]        \n",
      "                                                                 activation_72[0][0]              \n",
      "__________________________________________________________________________________________________\n",
      "dropout_34 (Dropout)            (None, 32, 32, 128)  0           concatenate_11[0][0]             \n",
      "__________________________________________________________________________________________________\n",
      "conv2d_83 (Conv2D)              (None, 32, 32, 64)   73792       dropout_34[0][0]                 \n",
      "__________________________________________________________________________________________________\n",
      "batch_normalization_80 (BatchNo (None, 32, 32, 64)   256         conv2d_83[0][0]                  \n",
      "__________________________________________________________________________________________________\n",
      "activation_79 (Activation)      (None, 32, 32, 64)   0           batch_normalization_80[0][0]     \n",
      "__________________________________________________________________________________________________\n",
      "conv2d_84 (Conv2D)              (None, 32, 32, 64)   36928       activation_79[0][0]              \n",
      "__________________________________________________________________________________________________\n",
      "batch_normalization_81 (BatchNo (None, 32, 32, 64)   256         conv2d_84[0][0]                  \n",
      "__________________________________________________________________________________________________\n",
      "activation_80 (Activation)      (None, 32, 32, 64)   0           batch_normalization_81[0][0]     \n",
      "__________________________________________________________________________________________________\n",
      "conv2d_transpose_13 (Conv2DTran (None, 64, 64, 32)   18464       activation_80[0][0]              \n",
      "__________________________________________________________________________________________________\n",
      "concatenate_12 (Concatenate)    (None, 64, 64, 64)   0           conv2d_transpose_13[0][0]        \n",
      "                                                                 activation_70[0][0]              \n",
      "__________________________________________________________________________________________________\n",
      "dropout_35 (Dropout)            (None, 64, 64, 64)   0           concatenate_12[0][0]             \n",
      "__________________________________________________________________________________________________\n",
      "conv2d_85 (Conv2D)              (None, 64, 64, 32)   18464       dropout_35[0][0]                 \n",
      "__________________________________________________________________________________________________\n",
      "batch_normalization_82 (BatchNo (None, 64, 64, 32)   128         conv2d_85[0][0]                  \n",
      "__________________________________________________________________________________________________\n",
      "activation_81 (Activation)      (None, 64, 64, 32)   0           batch_normalization_82[0][0]     \n",
      "__________________________________________________________________________________________________\n",
      "conv2d_86 (Conv2D)              (None, 64, 64, 32)   9248        activation_81[0][0]              \n",
      "__________________________________________________________________________________________________\n",
      "batch_normalization_83 (BatchNo (None, 64, 64, 32)   128         conv2d_86[0][0]                  \n",
      "__________________________________________________________________________________________________\n",
      "activation_82 (Activation)      (None, 64, 64, 32)   0           batch_normalization_83[0][0]     \n",
      "__________________________________________________________________________________________________\n",
      "conv2d_transpose_14 (Conv2DTran (None, 128, 128, 16) 4624        activation_82[0][0]              \n",
      "__________________________________________________________________________________________________\n",
      "concatenate_13 (Concatenate)    (None, 128, 128, 32) 0           conv2d_transpose_14[0][0]        \n",
      "                                                                 activation_68[0][0]              \n",
      "__________________________________________________________________________________________________\n",
      "dropout_36 (Dropout)            (None, 128, 128, 32) 0           concatenate_13[0][0]             \n",
      "__________________________________________________________________________________________________\n",
      "conv2d_87 (Conv2D)              (None, 128, 128, 16) 4624        dropout_36[0][0]                 \n",
      "__________________________________________________________________________________________________\n",
      "batch_normalization_84 (BatchNo (None, 128, 128, 16) 64          conv2d_87[0][0]                  \n",
      "__________________________________________________________________________________________________\n",
      "activation_83 (Activation)      (None, 128, 128, 16) 0           batch_normalization_84[0][0]     \n",
      "__________________________________________________________________________________________________\n",
      "conv2d_88 (Conv2D)              (None, 128, 128, 16) 2320        activation_83[0][0]              \n",
      "__________________________________________________________________________________________________\n",
      "batch_normalization_85 (BatchNo (None, 128, 128, 16) 64          conv2d_88[0][0]                  \n",
      "__________________________________________________________________________________________________\n",
      "activation_84 (Activation)      (None, 128, 128, 16) 0           batch_normalization_85[0][0]     \n",
      "__________________________________________________________________________________________________\n",
      "conv2d_89 (Conv2D)              (None, 128, 128, 1)  17          activation_84[0][0]              \n",
      "==================================================================================================\n",
      "Total params: 2,164,305\n",
      "Trainable params: 2,161,361\n",
      "Non-trainable params: 2,944\n",
      "__________________________________________________________________________________________________\n"
     ]
    }
   ],
   "source": [
    "input_img = Input((128, 128, 1), name='img')\n",
    "model = get_unet(input_img, n_filters=16, dropout=0.05, batchnorm=True)\n",
    "\n",
    "model.compile(optimizer=Adam(), loss=\"binary_crossentropy\", metrics=[\"accuracy\"])\n",
    "model.summary()"
   ]
  },
  {
   "cell_type": "code",
   "execution_count": 37,
   "metadata": {},
   "outputs": [],
   "source": [
    "from keras.layers import Conv2DTranspose\n",
    "\n",
    "from keras.layers.merge import concatenate, add\n",
    "from keras.models import Model\n",
    "from keras.optimizers import Adam\n",
    "\n",
    "from keras.callbacks import EarlyStopping, ModelCheckpoint, ReduceLROnPlateau"
   ]
  },
  {
   "cell_type": "code",
   "execution_count": null,
   "metadata": {},
   "outputs": [],
   "source": []
  },
  {
   "cell_type": "code",
   "execution_count": 38,
   "metadata": {},
   "outputs": [],
   "source": [
    "callbacks = [\n",
    "    EarlyStopping(patience=10, verbose=1),\n",
    "    ReduceLROnPlateau(factor=0.1, patience=3, min_lr=0.00001, verbose=1),\n",
    "    ModelCheckpoint('model-tgs-salt.h5', verbose=1, save_best_only=True, save_weights_only=True)\n",
    "]"
   ]
  },
  {
   "cell_type": "code",
   "execution_count": 62,
   "metadata": {},
   "outputs": [
    {
     "name": "stdout",
     "output_type": "stream",
     "text": [
      "WARNING:tensorflow:From c:\\users\\wojtek\\appdata\\local\\conda\\conda\\envs\\deep learning\\lib\\site-packages\\tensorflow\\python\\ops\\math_ops.py:3066: to_int32 (from tensorflow.python.ops.math_ops) is deprecated and will be removed in a future version.\n",
      "Instructions for updating:\n",
      "Use tf.cast instead.\n",
      "Train on 96 samples, validate on 42 samples\n",
      "Epoch 1/100\n",
      "96/96 [==============================] - ETA: 14s - loss: 1.5332 - acc: 0.12 - ETA: 3s - loss: 1.4706 - acc: 0.1267 - 8s 88ms/step - loss: 1.4151 - acc: 0.1265 - val_loss: 2.1790 - val_acc: 0.1313\n",
      "\n",
      "Epoch 00001: val_loss improved from inf to 2.17898, saving model to model-tgs-salt.h5\n",
      "Epoch 2/100\n",
      "96/96 [==============================] - ETA: 0s - loss: 1.2207 - acc: 0.123 - ETA: 0s - loss: 1.1893 - acc: 0.125 - 1s 6ms/step - loss: 1.1545 - acc: 0.1319 - val_loss: 2.5531 - val_acc: 0.1646\n",
      "\n",
      "Epoch 00002: val_loss did not improve from 2.17898\n",
      "Epoch 3/100\n",
      "96/96 [==============================] - ETA: 0s - loss: 1.0395 - acc: 0.143 - ETA: 0s - loss: 1.0149 - acc: 0.147 - 1s 6ms/step - loss: 0.9923 - acc: 0.1532 - val_loss: 1.9481 - val_acc: 0.2319\n",
      "\n",
      "Epoch 00003: val_loss improved from 2.17898 to 1.94812, saving model to model-tgs-salt.h5\n",
      "Epoch 4/100\n",
      "96/96 [==============================] - ETA: 0s - loss: 0.8977 - acc: 0.195 - ETA: 0s - loss: 0.8716 - acc: 0.216 - 1s 6ms/step - loss: 0.8513 - acc: 0.2396 - val_loss: 2.9125 - val_acc: 0.2275\n",
      "\n",
      "Epoch 00004: val_loss did not improve from 1.94812\n",
      "Epoch 5/100\n",
      "96/96 [==============================] - ETA: 0s - loss: 0.7712 - acc: 0.309 - ETA: 0s - loss: 0.7524 - acc: 0.348 - 1s 6ms/step - loss: 0.7424 - acc: 0.3589 - val_loss: 4.1233 - val_acc: 0.2316\n",
      "\n",
      "Epoch 00005: val_loss did not improve from 1.94812\n",
      "Epoch 6/100\n",
      "96/96 [==============================] - ETA: 0s - loss: 0.6855 - acc: 0.440 - ETA: 0s - loss: 0.6726 - acc: 0.484 - 1s 6ms/step - loss: 0.6606 - acc: 0.5283 - val_loss: 2.5781 - val_acc: 0.3266\n",
      "\n",
      "Epoch 00006: ReduceLROnPlateau reducing learning rate to 0.00010000000474974513.\n",
      "\n",
      "Epoch 00006: val_loss did not improve from 1.94812\n",
      "Epoch 7/100\n",
      "96/96 [==============================] - ETA: 0s - loss: 0.6241 - acc: 0.678 - ETA: 0s - loss: 0.6162 - acc: 0.700 - 1s 6ms/step - loss: 0.6135 - acc: 0.7081 - val_loss: 1.7282 - val_acc: 0.3656\n",
      "\n",
      "Epoch 00007: val_loss improved from 1.94812 to 1.72824, saving model to model-tgs-salt.h5\n",
      "Epoch 8/100\n",
      "96/96 [==============================] - ETA: 0s - loss: 0.6178 - acc: 0.705 - ETA: 0s - loss: 0.6081 - acc: 0.726 - 1s 6ms/step - loss: 0.6064 - acc: 0.7313 - val_loss: 1.2851 - val_acc: 0.4043\n",
      "\n",
      "Epoch 00008: val_loss improved from 1.72824 to 1.28512, saving model to model-tgs-salt.h5\n",
      "Epoch 9/100\n",
      "96/96 [==============================] - ETA: 0s - loss: 0.6008 - acc: 0.742 - ETA: 0s - loss: 0.6010 - acc: 0.747 - 1s 6ms/step - loss: 0.5973 - acc: 0.7566 - val_loss: 1.0378 - val_acc: 0.4501\n",
      "\n",
      "Epoch 00009: val_loss improved from 1.28512 to 1.03784, saving model to model-tgs-salt.h5\n",
      "Epoch 10/100\n",
      "96/96 [==============================] - ETA: 0s - loss: 0.5875 - acc: 0.778 - ETA: 0s - loss: 0.5904 - acc: 0.778 - 1s 6ms/step - loss: 0.5863 - acc: 0.7825 - val_loss: 0.8892 - val_acc: 0.5009\n",
      "\n",
      "Epoch 00010: val_loss improved from 1.03784 to 0.88916, saving model to model-tgs-salt.h5\n",
      "Epoch 11/100\n",
      "96/96 [==============================] - ETA: 0s - loss: 0.5764 - acc: 0.802 - ETA: 0s - loss: 0.5741 - acc: 0.806 - 1s 6ms/step - loss: 0.5757 - acc: 0.8054 - val_loss: 0.7924 - val_acc: 0.5537\n",
      "\n",
      "Epoch 00011: val_loss improved from 0.88916 to 0.79240, saving model to model-tgs-salt.h5\n",
      "Epoch 12/100\n",
      "96/96 [==============================] - ETA: 0s - loss: 0.5769 - acc: 0.810 - ETA: 0s - loss: 0.5697 - acc: 0.813 - 1s 6ms/step - loss: 0.5701 - acc: 0.8169 - val_loss: 0.7193 - val_acc: 0.5867\n",
      "\n",
      "Epoch 00012: val_loss improved from 0.79240 to 0.71934, saving model to model-tgs-salt.h5\n",
      "Epoch 13/100\n",
      "96/96 [==============================] - ETA: 0s - loss: 0.6110 - acc: 0.649 - ETA: 0s - loss: 0.5885 - acc: 0.740 - 1s 6ms/step - loss: 0.5802 - acc: 0.7720 - val_loss: 0.6917 - val_acc: 0.6002\n",
      "\n",
      "Epoch 00013: val_loss improved from 0.71934 to 0.69170, saving model to model-tgs-salt.h5\n",
      "Epoch 14/100\n",
      "96/96 [==============================] - ETA: 0s - loss: 0.5659 - acc: 0.829 - ETA: 0s - loss: 0.5649 - acc: 0.834 - 1s 6ms/step - loss: 0.5614 - acc: 0.8383 - val_loss: 0.6750 - val_acc: 0.6261\n",
      "\n",
      "Epoch 00014: val_loss improved from 0.69170 to 0.67502, saving model to model-tgs-salt.h5\n",
      "Epoch 15/100\n",
      "96/96 [==============================] - ETA: 0s - loss: 0.5566 - acc: 0.844 - ETA: 0s - loss: 0.5550 - acc: 0.848 - 1s 6ms/step - loss: 0.5551 - acc: 0.8498 - val_loss: 0.6570 - val_acc: 0.6532\n",
      "\n",
      "Epoch 00015: val_loss improved from 0.67502 to 0.65697, saving model to model-tgs-salt.h5\n",
      "Epoch 16/100\n",
      "96/96 [==============================] - ETA: 0s - loss: 0.5651 - acc: 0.841 - ETA: 0s - loss: 0.5523 - acc: 0.853 - 1s 6ms/step - loss: 0.5516 - acc: 0.8556 - val_loss: 0.6328 - val_acc: 0.6795\n",
      "\n",
      "Epoch 00016: val_loss improved from 0.65697 to 0.63281, saving model to model-tgs-salt.h5\n",
      "Epoch 17/100\n",
      "96/96 [==============================] - ETA: 0s - loss: 0.5518 - acc: 0.857 - ETA: 0s - loss: 0.5481 - acc: 0.860 - 1s 6ms/step - loss: 0.5475 - acc: 0.8615 - val_loss: 0.6048 - val_acc: 0.7038\n",
      "\n",
      "Epoch 00017: val_loss improved from 0.63281 to 0.60482, saving model to model-tgs-salt.h5\n",
      "Epoch 18/100\n",
      "96/96 [==============================] - ETA: 0s - loss: 0.5484 - acc: 0.864 - ETA: 0s - loss: 0.5416 - acc: 0.869 - 1s 6ms/step - loss: 0.5400 - acc: 0.8692 - val_loss: 0.5804 - val_acc: 0.7261\n",
      "\n",
      "Epoch 00018: val_loss improved from 0.60482 to 0.58043, saving model to model-tgs-salt.h5\n",
      "Epoch 19/100\n",
      "96/96 [==============================] - ETA: 0s - loss: 0.5367 - acc: 0.872 - ETA: 0s - loss: 0.5338 - acc: 0.873 - 1s 6ms/step - loss: 0.5332 - acc: 0.8756 - val_loss: 0.5617 - val_acc: 0.7458\n",
      "\n",
      "Epoch 00019: val_loss improved from 0.58043 to 0.56174, saving model to model-tgs-salt.h5\n",
      "Epoch 20/100\n",
      "96/96 [==============================] - ETA: 0s - loss: 0.5226 - acc: 0.882 - ETA: 0s - loss: 0.5283 - acc: 0.880 - 1s 6ms/step - loss: 0.5263 - acc: 0.8813 - val_loss: 0.5482 - val_acc: 0.7632\n",
      "\n",
      "Epoch 00020: val_loss improved from 0.56174 to 0.54823, saving model to model-tgs-salt.h5\n",
      "Epoch 21/100\n",
      "96/96 [==============================] - ETA: 0s - loss: 0.5227 - acc: 0.884 - ETA: 0s - loss: 0.5175 - acc: 0.886 - 1s 6ms/step - loss: 0.5204 - acc: 0.8855 - val_loss: 0.5396 - val_acc: 0.7800\n",
      "\n",
      "Epoch 00021: val_loss improved from 0.54823 to 0.53960, saving model to model-tgs-salt.h5\n",
      "Epoch 22/100\n",
      "96/96 [==============================] - ETA: 0s - loss: 0.5126 - acc: 0.886 - ETA: 0s - loss: 0.5116 - acc: 0.888 - 1s 6ms/step - loss: 0.5171 - acc: 0.8868 - val_loss: 0.5331 - val_acc: 0.7958\n",
      "\n",
      "Epoch 00022: val_loss improved from 0.53960 to 0.53309, saving model to model-tgs-salt.h5\n",
      "Epoch 23/100\n",
      "96/96 [==============================] - ETA: 0s - loss: 0.5318 - acc: 0.862 - ETA: 0s - loss: 0.5176 - acc: 0.879 - 1s 6ms/step - loss: 0.5163 - acc: 0.8831 - val_loss: 0.5290 - val_acc: 0.8120\n",
      "\n",
      "Epoch 00023: val_loss improved from 0.53309 to 0.52896, saving model to model-tgs-salt.h5\n",
      "Epoch 24/100\n",
      "96/96 [==============================] - ETA: 0s - loss: 0.5081 - acc: 0.895 - ETA: 0s - loss: 0.5089 - acc: 0.894 - 1s 6ms/step - loss: 0.5074 - acc: 0.8959 - val_loss: 0.5246 - val_acc: 0.8249\n",
      "\n",
      "Epoch 00024: val_loss improved from 0.52896 to 0.52461, saving model to model-tgs-salt.h5\n",
      "Epoch 25/100\n",
      "96/96 [==============================] - ETA: 0s - loss: 0.5066 - acc: 0.896 - ETA: 0s - loss: 0.5054 - acc: 0.895 - 1s 6ms/step - loss: 0.5060 - acc: 0.8962 - val_loss: 0.5213 - val_acc: 0.8340\n",
      "\n",
      "Epoch 00025: val_loss improved from 0.52461 to 0.52133, saving model to model-tgs-salt.h5\n",
      "Epoch 26/100\n",
      "96/96 [==============================] - ETA: 0s - loss: 0.5036 - acc: 0.898 - ETA: 0s - loss: 0.5465 - acc: 0.784 - 1s 6ms/step - loss: 0.5324 - acc: 0.8226 - val_loss: 0.5377 - val_acc: 0.8366\n",
      "\n",
      "Epoch 00026: val_loss did not improve from 0.52133\n",
      "Epoch 27/100\n",
      "96/96 [==============================] - ETA: 0s - loss: 0.4963 - acc: 0.903 - ETA: 0s - loss: 0.5005 - acc: 0.901 - 1s 6ms/step - loss: 0.5009 - acc: 0.9011 - val_loss: 0.5719 - val_acc: 0.8396\n"
     ]
    },
    {
     "name": "stdout",
     "output_type": "stream",
     "text": [
      "\n",
      "Epoch 00027: val_loss did not improve from 0.52133\n",
      "Epoch 28/100\n",
      "96/96 [==============================] - ETA: 0s - loss: 0.4991 - acc: 0.902 - ETA: 0s - loss: 0.5013 - acc: 0.901 - 1s 6ms/step - loss: 0.4999 - acc: 0.9020 - val_loss: 0.5997 - val_acc: 0.8414\n",
      "\n",
      "Epoch 00028: ReduceLROnPlateau reducing learning rate to 1.0000000474974514e-05.\n",
      "\n",
      "Epoch 00028: val_loss did not improve from 0.52133\n",
      "Epoch 29/100\n",
      "96/96 [==============================] - ETA: 0s - loss: 0.4948 - acc: 0.904 - ETA: 0s - loss: 0.5020 - acc: 0.901 - 1s 6ms/step - loss: 0.5025 - acc: 0.9013 - val_loss: 0.5941 - val_acc: 0.8478\n",
      "\n",
      "Epoch 00029: val_loss did not improve from 0.52133\n",
      "Epoch 30/100\n",
      "96/96 [==============================] - ETA: 0s - loss: 0.4991 - acc: 0.903 - ETA: 0s - loss: 0.5002 - acc: 0.903 - 1s 6ms/step - loss: 0.5003 - acc: 0.9023 - val_loss: 0.5870 - val_acc: 0.8536\n",
      "\n",
      "Epoch 00030: val_loss did not improve from 0.52133\n",
      "Epoch 31/100\n",
      "96/96 [==============================] - ETA: 0s - loss: 0.4968 - acc: 0.902 - ETA: 0s - loss: 0.4999 - acc: 0.902 - 1s 6ms/step - loss: 0.5024 - acc: 0.9018 - val_loss: 0.5802 - val_acc: 0.8583\n",
      "\n",
      "Epoch 00031: ReduceLROnPlateau reducing learning rate to 1e-05.\n",
      "\n",
      "Epoch 00031: val_loss did not improve from 0.52133\n",
      "Epoch 32/100\n",
      "96/96 [==============================] - ETA: 0s - loss: 0.4991 - acc: 0.904 - ETA: 0s - loss: 0.4992 - acc: 0.902 - 1s 6ms/step - loss: 0.4989 - acc: 0.9031 - val_loss: 0.5732 - val_acc: 0.8626\n",
      "\n",
      "Epoch 00032: val_loss did not improve from 0.52133\n",
      "Epoch 33/100\n",
      "96/96 [==============================] - ETA: 0s - loss: 0.5151 - acc: 0.899 - ETA: 0s - loss: 0.5032 - acc: 0.901 - 1s 7ms/step - loss: 0.5024 - acc: 0.9019 - val_loss: 0.5668 - val_acc: 0.8662\n",
      "\n",
      "Epoch 00033: val_loss did not improve from 0.52133\n",
      "Epoch 34/100\n",
      "96/96 [==============================] - ETA: 0s - loss: 0.5096 - acc: 0.899 - ETA: 0s - loss: 0.5042 - acc: 0.901 - 1s 6ms/step - loss: 0.4999 - acc: 0.9029 - val_loss: 0.5606 - val_acc: 0.8694\n",
      "\n",
      "Epoch 00034: val_loss did not improve from 0.52133\n",
      "Epoch 35/100\n",
      "96/96 [==============================] - ETA: 0s - loss: 0.5034 - acc: 0.901 - ETA: 0s - loss: 0.5042 - acc: 0.901 - 1s 6ms/step - loss: 0.5011 - acc: 0.9021 - val_loss: 0.5557 - val_acc: 0.8722\n",
      "\n",
      "Epoch 00035: val_loss did not improve from 0.52133\n",
      "Epoch 00035: early stopping\n"
     ]
    }
   ],
   "source": [
    "results = model.fit(X, y, batch_size=32, epochs=100, callbacks=callbacks,\n",
    "                    validation_data=(Xt, yt))"
   ]
  },
  {
   "cell_type": "code",
   "execution_count": null,
   "metadata": {},
   "outputs": [],
   "source": [
    "results.validation_data"
   ]
  },
  {
   "cell_type": "code",
   "execution_count": 64,
   "metadata": {},
   "outputs": [],
   "source": [
    "model.load_weights('model-tgs-salt.h5')"
   ]
  },
  {
   "cell_type": "code",
   "execution_count": 65,
   "metadata": {},
   "outputs": [
    {
     "name": "stdout",
     "output_type": "stream",
     "text": [
      "42/42 [==============================] - ETA:  - 0s 2ms/step\n"
     ]
    },
    {
     "data": {
      "text/plain": [
       "[0.5213318836121332, 0.834009085382734]"
      ]
     },
     "execution_count": 65,
     "metadata": {},
     "output_type": "execute_result"
    }
   ],
   "source": [
    "model.evaluate(Xt, yt, verbose=1)"
   ]
  },
  {
   "cell_type": "code",
   "execution_count": 68,
   "metadata": {},
   "outputs": [
    {
     "name": "stdout",
     "output_type": "stream",
     "text": [
      "42/42 [==============================] - ETA:  - 0s 2ms/step\n",
      "42/42 [==============================] - ETA:  - 0s 2ms/step\n"
     ]
    }
   ],
   "source": [
    "preds_train = model.predict(Xt, verbose=1)\n",
    "preds_val = model.predict(yt, verbose=1)\n",
    "\n",
    "preds_train_t = (preds_train > 0.5).astype(np.uint8)\n",
    "preds_val_t = (preds_val > 0.5).astype(np.uint8)"
   ]
  },
  {
   "cell_type": "code",
   "execution_count": 77,
   "metadata": {},
   "outputs": [],
   "source": [
    "def plot_sample(X, y, preds, binary_preds, ix=None):\n",
    "    if ix is None:\n",
    "        ix = random.randint(0, len(X))\n",
    "\n",
    "    has_mask = y[ix].max() > 0\n",
    "\n",
    "    fig, ax = plt.subplots(1, 4, figsize=(20, 10))\n",
    "    ax[0].imshow(X[ix, ..., 0], cmap='binary')\n",
    "    if has_mask:\n",
    "        ax[0].contour(y[ix].squeeze(), colors=['black', 'white'], levels=[0.5])\n",
    "    ax[0].set_title('RTG')\n",
    "\n",
    "    ax[1].imshow(y[ix].squeeze())\n",
    "    ax[1].set_title('Left Lung')\n",
    "\n",
    "    ax[2].imshow(preds[ix].squeeze(), vmin=0, vmax=1)\n",
    "    if has_mask:\n",
    "        ax[2].contour(y[ix].squeeze(), colors=['black', 'white'], levels=[0.5])\n",
    "    ax[2].set_title('Predicted Lung')\n",
    "    \n",
    "    ax[3].imshow(binary_preds[ix].squeeze(), vmin=0, vmax=1)\n",
    "    if has_mask:\n",
    "        ax[3].contour(y[ix].squeeze(), colors='k', levels=[0.5])\n",
    "    ax[3].set_title('Predicted Lung Binary');"
   ]
  },
  {
   "cell_type": "code",
   "execution_count": 80,
   "metadata": {},
   "outputs": [
    {
     "data": {
      "image/png": "[encoded data removed]",
      "text/plain": [
       "<Figure size 1440x720 with 4 Axes>"
      ]
     },
     "metadata": {
      "needs_background": "light"
     },
     "output_type": "display_data"
    }
   ],
   "source": [
    "plot_sample(X, y, preds_train, preds_train_t, ix=22)"
   ]
  },
  {
   "cell_type": "code",
   "execution_count": 79,
   "metadata": {},
   "outputs": [],
   "source": [
    "img = load_img(FRAME_PATH+\"\\\\MCUCXR_0383_1.png\")"
   ]
  },
  {
   "cell_type": "code",
   "execution_count": 74,
   "metadata": {},
   "outputs": [],
   "source": [
    "x = img_to_array(img)"
   ]
  },
  {
   "cell_type": "code",
   "execution_count": 80,
   "metadata": {},
   "outputs": [
    {
     "data": {
      "text/plain": [
       "(4020, 4892, 3)"
      ]
     },
     "execution_count": 80,
     "metadata": {},
     "output_type": "execute_result"
    }
   ],
   "source": [
    "x.shape"
   ]
  },
  {
   "cell_type": "code",
   "execution_count": 78,
   "metadata": {},
   "outputs": [
    {
     "data": {
      "text/plain": [
       "(4020, 4892, 3)"
      ]
     },
     "execution_count": 78,
     "metadata": {},
     "output_type": "execute_result"
    }
   ],
   "source": [
    "x.shape"
   ]
  },
  {
   "cell_type": "code",
   "execution_count": 88,
   "metadata": {},
   "outputs": [
    {
     "data": {
      "text/plain": [
       "<matplotlib.image.AxesImage at 0x23035347eb8>"
      ]
     },
     "execution_count": 88,
     "metadata": {},
     "output_type": "execute_result"
    },
    {
     "data": {
      "image/png": "[encoded data removed]",
      "text/plain": [
       "<Figure size 432x288 with 1 Axes>"
      ]
     },
     "metadata": {
      "needs_background": "light"
     },
     "output_type": "display_data"
    }
   ],
   "source": [
    "plt.imshow(x/255.)"
   ]
  },
  {
   "cell_type": "code",
   "execution_count": 85,
   "metadata": {},
   "outputs": [],
   "source": [
    "train_datagen = ImageDataGenerator(rescale=1./255)"
   ]
  },
  {
   "cell_type": "code",
   "execution_count": 86,
   "metadata": {},
   "outputs": [
    {
     "name": "stdout",
     "output_type": "stream",
     "text": [
      "Found 0 images belonging to 0 classes.\n"
     ]
    }
   ],
   "source": []
  },
  {
   "cell_type": "code",
   "execution_count": null,
   "metadata": {},
   "outputs": [],
   "source": []
  },
  {
   "cell_type": "code",
   "execution_count": null,
   "metadata": {},
   "outputs": [],
   "source": []
  },
  {
   "cell_type": "code",
   "execution_count": null,
   "metadata": {},
   "outputs": [],
   "source": [
    "base_model = applications.VGG16(weights='imagenet', include_top=False, input_shape())"
   ]
  }
 ],
 "metadata": {
  "kernelspec": {
   "display_name": "Python 3",
   "language": "python",
   "name": "python3"
  },
  "language_info": {
   "codemirror_mode": {
    "name": "ipython",
    "version": 3
   },
   "file_extension": ".py",
   "mimetype": "text/x-python",
   "name": "python",
   "nbconvert_exporter": "python",
   "pygments_lexer": "ipython3",
   "version": "3.6.8"
  }
 },
 "nbformat": 4,
 "nbformat_minor": 2
}
